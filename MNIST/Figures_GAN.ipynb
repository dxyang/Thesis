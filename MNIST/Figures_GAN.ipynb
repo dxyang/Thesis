{
 "cells": [
  {
   "cell_type": "code",
   "execution_count": 1,
   "metadata": {
    "collapsed": true
   },
   "outputs": [],
   "source": [
    "import numpy as np\n",
    "import matplotlib.pyplot as plt\n",
    "import matplotlib.image as mpimg\n",
    "\n",
    "%matplotlib inline"
   ]
  },
  {
   "cell_type": "markdown",
   "metadata": {},
   "source": [
    "# Data paths"
   ]
  },
  {
   "cell_type": "code",
   "execution_count": 2,
   "metadata": {
    "collapsed": true
   },
   "outputs": [],
   "source": [
    "dataPath = \"MNIST_Autoencoder_CollectedData_FINAL\"\n",
    "sqPath = \"%s/030917_HidingSquares\" %dataPath"
   ]
  },
  {
   "cell_type": "markdown",
   "metadata": {},
   "source": [
    "# Load autoencoder and affine mses"
   ]
  },
  {
   "cell_type": "code",
   "execution_count": 3,
   "metadata": {
    "collapsed": false
   },
   "outputs": [
    {
     "name": "stdout",
     "output_type": "stream",
     "text": [
      "[ 4  6  8 10 12 14 16 18 20 22 24 26 28]\n"
     ]
    }
   ],
   "source": [
    "# autoencoder\n",
    "squareIdxs_autoencoder = np.arange(4, 30, 2)\n",
    "print squareIdxs_autoencoder\n",
    "\n",
    "data_test_costs_squares = np.load('%s/data_test_costs_square.npy' %sqPath)\n",
    "data_train_costs_squares = np.load('%s/data_train_costs_square.npy' %sqPath)\n",
    "data_mses_testSplits_squares = np.load('%s/data_mses_testSplits_square.npy' %sqPath)\n",
    "\n",
    "splitMeans_squares = np.zeros(13)\n",
    "splitStddev_squares = np.zeros(13)\n",
    "for i in range(13):\n",
    "    splitMeans_squares[i] = np.mean(data_mses_testSplits_squares[i])\n",
    "    splitStddev_squares[i] = np.std(data_mses_testSplits_squares[i])"
   ]
  },
  {
   "cell_type": "code",
   "execution_count": 4,
   "metadata": {
    "collapsed": false
   },
   "outputs": [
    {
     "name": "stdout",
     "output_type": "stream",
     "text": [
      "[ 2  4  6  8 10 12 14 16 18 20 22 24 26 28]\n"
     ]
    }
   ],
   "source": [
    "# from MSE_columns_square_sizes.ipynb\n",
    "# MMSE estimator\n",
    "squareIdxs_affine = np.arange(2,30,2)\n",
    "print squareIdxs_affine\n",
    "\n",
    "train_mmse_removecenter = np.load('%s/mmse_hideSquares_train.npy' %sqPath)\n",
    "splitTest_mmse_removecenter = np.load('%s/mmse_hideSquares_testSplits.npy' %sqPath)\n",
    "\n",
    "test_mmse_means_removecenter = np.zeros(14)\n",
    "test_mmse_stddevs_removecenter = np.zeros(14)\n",
    "for i in range(14):\n",
    "    test_mmse_means_removecenter[i] = np.mean(splitTest_mmse_removecenter[i])\n",
    "    test_mmse_stddevs_removecenter[i] = np.std(splitTest_mmse_removecenter[i])\n",
    "\n",
    "# avg training image\n",
    "train_mmse_avgImage_removecenter = np.load('%s/mmse_avgImage_hideSquares_train.npy' %sqPath)\n",
    "splitTest_mmse_avgImage_removecenter = np.load('%s/mmse_avgImage_hideSquares_testSplits.npy' %sqPath)\n",
    "\n",
    "test_mmse_avgImage_means_removecenter = np.zeros(14)\n",
    "test_mmse_avgImage_stddevs_removecenter = np.zeros(14)\n",
    "for i in range(14):\n",
    "    test_mmse_avgImage_means_removecenter[i] = np.mean(splitTest_mmse_avgImage_removecenter[i])\n",
    "    test_mmse_avgImage_stddevs_removecenter[i] = np.std(splitTest_mmse_avgImage_removecenter[i])"
   ]
  },
  {
   "cell_type": "markdown",
   "metadata": {},
   "source": [
    "# Hiding 8 x 8 Squares"
   ]
  },
  {
   "cell_type": "code",
   "execution_count": 5,
   "metadata": {
    "collapsed": false
   },
   "outputs": [
    {
     "name": "stdout",
     "output_type": "stream",
     "text": [
      "Affine Idx: 3\n",
      "0.0849664343108\n",
      "0.0861817445058\n",
      "0.0022701735561\n",
      "Autoencoder Idx: 2\n",
      "0.0391673982143\n",
      "0.0437931489901\n",
      "0.00190685130422\n"
     ]
    }
   ],
   "source": [
    "squareSide = 8\n",
    "idx_affine = np.where(squareIdxs_affine == squareSide)[0][0]\n",
    "idx_ae = np.where(squareIdxs_autoencoder == squareSide)[0][0]\n",
    "\n",
    "print 'Affine Idx: %d' %idx_affine\n",
    "\n",
    "print train_mmse_removecenter[idx_affine]\n",
    "print test_mmse_means_removecenter[idx_affine]\n",
    "print test_mmse_stddevs_removecenter[idx_affine]\n",
    "\n",
    "print 'Autoencoder Idx: %d' %idx_ae\n",
    "\n",
    "print data_train_costs_squares[idx_ae]\n",
    "print splitMeans_squares[idx_ae]\n",
    "print splitStddev_squares[idx_ae]"
   ]
  },
  {
   "cell_type": "code",
   "execution_count": 6,
   "metadata": {
    "collapsed": false
   },
   "outputs": [
    {
     "name": "stdout",
     "output_type": "stream",
     "text": [
      "0.109762802828\n",
      "0.120312502235\n",
      "0.0128157411302\n"
     ]
    }
   ],
   "source": [
    "gan_8_test = np.load('mnist_gan/L2_loss_bs100_%d_mnist_test.npy' %squareSide).T\n",
    "gan_8_train = np.load('mnist_gan/L2_loss_bs100_%d_mnist_train.npy' %squareSide).T\n",
    "\n",
    "gan_8_test_batchMeans = np.zeros(10)\n",
    "for i in range(10):\n",
    "    gan_8_test_batchMeans[i] = np.mean(gan_8_test[i*10:(i+1)*10])\n",
    "\n",
    "gan_8_test_mean = np.mean(gan_8_test_batchMeans)\n",
    "gan_8_test_stddev = np.std(gan_8_test_batchMeans)\n",
    "gan_8_train_mean = np.mean(gan_8_train)\n",
    "\n",
    "print gan_8_train_mean\n",
    "print gan_8_test_mean\n",
    "print gan_8_test_stddev"
   ]
  },
  {
   "cell_type": "code",
   "execution_count": 7,
   "metadata": {
    "collapsed": false
   },
   "outputs": [],
   "source": [
    "af_8_train = train_mmse_removecenter[idx_affine]\n",
    "af_8_test = test_mmse_means_removecenter[idx_affine]\n",
    "af_8_test_dev = test_mmse_stddevs_removecenter[idx_affine]\n",
    "\n",
    "ae_8_train = data_train_costs_squares[idx_ae]\n",
    "ae_8_test = splitMeans_squares[idx_ae]\n",
    "ae_8_test_dev = splitStddev_squares[idx_ae]\n",
    "\n",
    "gan_8_train = gan_8_train_mean\n",
    "gan_8_test = gan_8_test_mean \n",
    "gan_8_test_dev = gan_8_test_stddev"
   ]
  },
  {
   "cell_type": "code",
   "execution_count": 9,
   "metadata": {
    "collapsed": false
   },
   "outputs": [
    {
     "data": {
      "image/png": "[encoded data removed]",
      "text/plain": [
       "<matplotlib.figure.Figure at 0x7f4ccf495dd0>"
      ]
     },
     "metadata": {},
     "output_type": "display_data"
    }
   ],
   "source": [
    "N = 3\n",
    "ind = np.arange(N)  # the x locations for the groups\n",
    "width = 0.45       # the width of the bars\n",
    "\n",
    "fig, ax = plt.subplots()\n",
    "\n",
    "test_means = (af_8_test, ae_8_test, gan_8_test)\n",
    "test_stddev = (af_8_test_dev, ae_8_test_dev, gan_8_test_dev)  \n",
    "# rects1 = ax.bar(ind, test_means, width, color='#F19545', yerr=test_stddev)\n",
    "rects1 = ax.bar(ind, test_means, width, color='#ababab', yerr=test_stddev, ecolor='black')\n",
    "\n",
    "train_means = (af_8_train, ae_8_train, gan_8_train)\n",
    "# rects2 = ax.bar(ind + width, train_means, width, color='#F8D3B6')\n",
    "rects2 = ax.bar(ind + width, train_means, width, color='#e5e5e5')\n",
    "\n",
    "# add some text for labels, title and axes ticks\n",
    "plt.ylabel(\"Average MSE per Hidden Pixel\", fontsize=14)\n",
    "ax.set_title('MSE for Completing a Centered 8 x 8 Square')\n",
    "ax.set_xticks(ind + width)\n",
    "ax.set_xticklabels(('Affine', 'Autoencoder', 'GAN'))\n",
    "ax.legend((rects1[0], rects2[0]), ('Test', 'Train'), loc='upper left')\n",
    "\n",
    "plt.ylim([0,0.2])\n",
    "ax.text(0.1, 0.13, '*lower is better', fontsize=10)\n",
    "\n",
    "plt.savefig('Fig_Gan_8x8.png', dpi=400)\n",
    "plt.show()\n"
   ]
  },
  {
   "cell_type": "markdown",
   "metadata": {
    "collapsed": true
   },
   "source": [
    "# Hiding 10 x 10 Squares"
   ]
  },
  {
   "cell_type": "code",
   "execution_count": 15,
   "metadata": {
    "collapsed": false
   },
   "outputs": [
    {
     "name": "stdout",
     "output_type": "stream",
     "text": [
      "Affine Idx: 4\n",
      "0.0922883850222\n",
      "0.0943543580799\n",
      "0.00175264311747\n",
      "Autoencoder Idx: 3\n",
      "0.0565236866474\n",
      "0.0588182797766\n",
      "0.00155647860254\n"
     ]
    }
   ],
   "source": [
    "squareSide = 10\n",
    "idx_affine = np.where(squareIdxs_affine == squareSide)[0][0]\n",
    "idx_ae = np.where(squareIdxs_autoencoder == squareSide)[0][0]\n",
    "\n",
    "print 'Affine Idx: %d' %idx_affine\n",
    "\n",
    "print train_mmse_removecenter[idx_affine]\n",
    "print test_mmse_means_removecenter[idx_affine]\n",
    "print test_mmse_stddevs_removecenter[idx_affine]\n",
    "\n",
    "print 'Autoencoder Idx: %d' %idx_ae\n",
    "\n",
    "print data_train_costs_squares[idx_ae]\n",
    "print splitMeans_squares[idx_ae]\n",
    "print splitStddev_squares[idx_ae]"
   ]
  },
  {
   "cell_type": "code",
   "execution_count": 16,
   "metadata": {
    "collapsed": false
   },
   "outputs": [
    {
     "name": "stdout",
     "output_type": "stream",
     "text": [
      "0.149705007076\n",
      "0.149705007076\n",
      "0.00808212849796\n"
     ]
    }
   ],
   "source": [
    "gan_10_test = np.load('mnist_gan/L2_loss_bs100_%d_mnist_test.npy' %squareSide).T\n",
    "#gan_10_train = np.load('mnist_gan/L2_loss_bs100_%d_mnist_train.npy' %squareSide).T\n",
    "\n",
    "gan_10_test_batchMeans = np.zeros(10)\n",
    "for i in range(10):\n",
    "    gan_10_test_batchMeans[i] = np.mean(gan_10_test[i*10:(i+1)*10])\n",
    "\n",
    "gan_10_test_mean = np.mean(gan_10_test_batchMeans)\n",
    "gan_10_test_stddev = np.std(gan_10_test_batchMeans)\n",
    "gan_10_train_mean = gan_10_test_mean #np.mean(gan_10_train)\n",
    "\n",
    "print gan_10_train_mean\n",
    "print gan_10_test_mean\n",
    "print gan_10_test_stddev"
   ]
  },
  {
   "cell_type": "code",
   "execution_count": 17,
   "metadata": {
    "collapsed": true
   },
   "outputs": [],
   "source": [
    "af_10_train = train_mmse_removecenter[idx_affine]\n",
    "af_10_test = test_mmse_means_removecenter[idx_affine]\n",
    "af_10_test_dev = test_mmse_stddevs_removecenter[idx_affine]\n",
    "\n",
    "ae_10_train = data_train_costs_squares[idx_ae]\n",
    "ae_10_test = splitMeans_squares[idx_ae]\n",
    "ae_10_test_dev = splitStddev_squares[idx_ae]\n",
    "\n",
    "gan_10_train = gan_10_train_mean\n",
    "gan_10_test = gan_10_test_mean \n",
    "gan_10_test_dev = gan_10_test_stddev"
   ]
  },
  {
   "cell_type": "code",
   "execution_count": 21,
   "metadata": {
    "collapsed": false
   },
   "outputs": [
    {
     "data": {
      "image/png": "[encoded data removed]",
      "text/plain": [
       "<matplotlib.figure.Figure at 0x7f0ced9317d0>"
      ]
     },
     "metadata": {},
     "output_type": "display_data"
    }
   ],
   "source": [
    "N = 3\n",
    "ind = np.arange(N)  # the x locations for the groups\n",
    "width = 0.45       # the width of the bars\n",
    "\n",
    "fig, ax = plt.subplots()\n",
    "\n",
    "test_means = (af_10_test, ae_10_test, gan_10_test)\n",
    "test_stddev = (af_10_test_dev, ae_10_test_dev, gan_10_test_dev)  \n",
    "rects1 = ax.bar(ind, test_means, width, color='#F19545', yerr=test_stddev)\n",
    "\n",
    "train_means = (af_10_train, ae_10_train, gan_10_train)\n",
    "rects2 = ax.bar(ind + width, train_means, width, color='#F8D3B6')\n",
    "\n",
    "# add some text for labels, title and axes ticks\n",
    "plt.ylabel(\"Average MSE per Hidden Pixel\", fontsize=14)\n",
    "ax.set_title('MSE for Completing a Centered 10 x 10 Square')\n",
    "ax.set_xticks(ind + width)\n",
    "ax.set_xticklabels(('Affine', 'Autoencoder', 'GAN'))\n",
    "ax.legend((rects1[0], rects2[0]), ('Test', 'Train'), loc='upper left')\n",
    "\n",
    "plt.ylim([0,0.20])\n",
    "ax.text(0.1, 0.13, '*lower is better', fontsize=10)\n",
    "\n",
    "plt.savefig('Fig_Gan_10x10.png')\n",
    "plt.show()\n"
   ]
  },
  {
   "cell_type": "markdown",
   "metadata": {},
   "source": [
    "# Hiding 12 x 12 Square"
   ]
  },
  {
   "cell_type": "code",
   "execution_count": 10,
   "metadata": {
    "collapsed": false
   },
   "outputs": [
    {
     "name": "stdout",
     "output_type": "stream",
     "text": [
      "Affine Idx: 5\n",
      "0.098851481664\n",
      "0.101167933309\n",
      "0.00144948723413\n",
      "Autoencoder Idx: 4\n",
      "0.0600746385753\n",
      "0.0633280083621\n",
      "0.00151789865422\n"
     ]
    }
   ],
   "source": [
    "squareSide = 12\n",
    "idx_affine = np.where(squareIdxs_affine == squareSide)[0][0]\n",
    "idx_ae = np.where(squareIdxs_autoencoder == squareSide)[0][0]\n",
    "\n",
    "print 'Affine Idx: %d' %idx_affine\n",
    "\n",
    "print train_mmse_removecenter[idx_affine]\n",
    "print test_mmse_means_removecenter[idx_affine]\n",
    "print test_mmse_stddevs_removecenter[idx_affine]\n",
    "\n",
    "print 'Autoencoder Idx: %d' %idx_ae\n",
    "\n",
    "print data_train_costs_squares[idx_ae]\n",
    "print splitMeans_squares[idx_ae]\n",
    "print splitStddev_squares[idx_ae]"
   ]
  },
  {
   "cell_type": "code",
   "execution_count": 11,
   "metadata": {
    "collapsed": false
   },
   "outputs": [
    {
     "name": "stdout",
     "output_type": "stream",
     "text": [
      "0.174008446336\n",
      "0.174008446336\n",
      "0.00434218291995\n"
     ]
    }
   ],
   "source": [
    "gan_12_test = np.load('mnist_gan/L2_loss_bs100_%d_mnist_test.npy' %squareSide).T\n",
    "#gan_12_train = np.load('mnist_gan/L2_loss_bs100_%d_mnist_train.npy' %squareSide).T\n",
    "\n",
    "gan_12_test_batchMeans = np.zeros(10)\n",
    "for i in range(10):\n",
    "    gan_12_test_batchMeans[i] = np.mean(gan_12_test[i*10:(i+1)*10])\n",
    "\n",
    "gan_12_test_mean = np.mean(gan_12_test_batchMeans)\n",
    "gan_12_test_stddev = np.std(gan_12_test_batchMeans)\n",
    "gan_12_train_mean = gan_12_test_mean #np.mean(gan_12_train)\n",
    "\n",
    "print gan_12_train_mean\n",
    "print gan_12_test_mean\n",
    "print gan_12_test_stddev"
   ]
  },
  {
   "cell_type": "code",
   "execution_count": 12,
   "metadata": {
    "collapsed": true
   },
   "outputs": [],
   "source": [
    "af_12_train = train_mmse_removecenter[idx_affine]\n",
    "af_12_test = test_mmse_means_removecenter[idx_affine]\n",
    "af_12_test_dev = test_mmse_stddevs_removecenter[idx_affine]\n",
    "\n",
    "ae_12_train = data_train_costs_squares[idx_ae]\n",
    "ae_12_test = splitMeans_squares[idx_ae]\n",
    "ae_12_test_dev = splitStddev_squares[idx_ae]\n",
    "\n",
    "gan_12_train = gan_12_train_mean\n",
    "gan_12_test = gan_12_test_mean \n",
    "gan_12_test_dev = gan_12_test_stddev"
   ]
  },
  {
   "cell_type": "code",
   "execution_count": 15,
   "metadata": {
    "collapsed": false
   },
   "outputs": [
    {
     "data": {
      "image/png": "[encoded data removed]",
      "text/plain": [
       "<matplotlib.figure.Figure at 0x7f4ccbc42150>"
      ]
     },
     "metadata": {},
     "output_type": "display_data"
    }
   ],
   "source": [
    "N = 3\n",
    "ind = np.arange(N)  # the x locations for the groups\n",
    "width = 0.45       # the width of the bars\n",
    "\n",
    "fig, ax = plt.subplots()\n",
    "\n",
    "test_means = (af_12_test, ae_12_test, gan_12_test)\n",
    "test_stddev = (af_12_test_dev, ae_12_test_dev, gan_12_test_dev)  \n",
    "# rects1 = ax.bar(ind, test_means, width, color='#F19545', yerr=test_stddev)\n",
    "rects1 = ax.bar(ind, test_means, width, color='#ababab', yerr=test_stddev, ecolor='black')\n",
    "\n",
    "train_means = (af_12_train, ae_12_train, gan_12_train)\n",
    "# rects2 = ax.bar(ind + width, train_means, width, color='#F8D3B6')\n",
    "rects2 = ax.bar(ind + width, train_means, width, color='#e5e5e5')\n",
    "\n",
    "# add some text for labels, title and axes ticks\n",
    "plt.ylabel(\"Average MSE per Hidden Pixel\", fontsize=14)\n",
    "ax.set_title('MSE for Completing a Centered 12 x 12 Square')\n",
    "ax.set_xticks(ind + width)\n",
    "ax.set_xticklabels(('Affine', 'Autoencoder', 'GAN'))\n",
    "ax.legend((rects1[0], rects2[0]), ('Test', 'Train'), loc='upper left')\n",
    "\n",
    "plt.ylim([0,0.20])\n",
    "ax.text(0.1, 0.13, '*lower is better', fontsize=10)\n",
    "\n",
    "plt.savefig('Fig_Gan_12x12.png', dpi=400)\n",
    "plt.show()\n"
   ]
  },
  {
   "cell_type": "code",
   "execution_count": null,
   "metadata": {
    "collapsed": true
   },
   "outputs": [],
   "source": []
  }
 ],
 "metadata": {
  "anaconda-cloud": {},
  "kernelspec": {
   "display_name": "Python [default]",
   "language": "python",
   "name": "python2"
  },
  "language_info": {
   "codemirror_mode": {
    "name": "ipython",
    "version": 2
   },
   "file_extension": ".py",
   "mimetype": "text/x-python",
   "name": "python",
   "nbconvert_exporter": "python",
   "pygments_lexer": "ipython2",
   "version": "2.7.12"
  }
 },
 "nbformat": 4,
 "nbformat_minor": 1
}
