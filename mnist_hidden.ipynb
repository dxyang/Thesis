{
 "cells": [
  {
   "cell_type": "markdown",
   "metadata": {},
   "source": [
    "# Import libraries"
   ]
  },
  {
   "cell_type": "code",
   "execution_count": 3,
   "metadata": {
    "collapsed": false
   },
   "outputs": [],
   "source": [
    "import tensorflow as tf\n",
    "import numpy as np\n",
    "import matplotlib.pyplot as plt\n",
    "import matplotlib.image as mpimg\n",
    "\n",
    "%matplotlib inline"
   ]
  },
  {
   "cell_type": "markdown",
   "metadata": {},
   "source": [
    "# MNIST preprocessing"
   ]
  },
  {
   "cell_type": "code",
   "execution_count": 4,
   "metadata": {
    "collapsed": true
   },
   "outputs": [],
   "source": [
    "# packing and unpacking images\n",
    "def packcw(A,nr,nc):\n",
    "    x = (A.T).reshape(nr*nc,1)\n",
    "    return x\n",
    "\n",
    "def unpackcw(x,nr,nc):\n",
    "    A = x.reshape(nc,nr)\n",
    "    return A.T\n",
    "\n",
    "def packrw(A,nr,nc):\n",
    "    x = A.reshape(nr*nc,1)\n",
    "    return x\n",
    "\n",
    "def unpackrw(x,nr,nc):\n",
    "    A = x.reshape(nr,nc)\n",
    "    return A\n",
    "\n",
    "# generates a 784 element mask with columns deleted\n",
    "# from the right side of the image towards the left\n",
    "def generateColumnMask(delColumns):\n",
    "    mask = np.ones((28, 28))\n",
    "    mask[:, (28 - delColumns):] = 0\n",
    "    maskVec = packcw(mask, 28, 28)\n",
    "    return maskVec\n",
    "\n",
    "# generate a 784 element mask with a square, with side\n",
    "# length (sideLength), zero'd out of the middle\n",
    "def generateCenterSquareMask(sideLength):\n",
    "    mask = np.ones((28, 28))\n",
    "    leftIdx = (28 - sideLength)/2\n",
    "    rightIdx = (28 + sideLength)/2\n",
    "    mask[leftIdx:rightIdx, leftIdx:rightIdx] = 0\n",
    "    maskVec = packcw(mask, 28, 28)\n",
    "    return maskVec\n",
    "\n",
    "# zero out indices of a vector for a data matrix\n",
    "# for a given mask\n",
    "def hideData(data, mask):\n",
    "    # copy the data\n",
    "    newData = data.copy()\n",
    "    \n",
    "    # get indices from the mask\n",
    "    x_idx = np.where([mask==1])[1]\n",
    "    y_idx = np.where([mask==0])[1]\n",
    "    \n",
    "    # apply the mask\n",
    "    newData[y_idx, :] = 0\n",
    "    \n",
    "    return newData, data[x_idx, :], data[y_idx, :]"
   ]
  },
  {
   "cell_type": "code",
   "execution_count": 5,
   "metadata": {
    "collapsed": false
   },
   "outputs": [
    {
     "name": "stdout",
     "output_type": "stream",
     "text": [
      "----MNIST dataset loaded----\n",
      "Train data: 784 x 10000\n",
      "Test data: 784 x 1000\n"
     ]
    }
   ],
   "source": [
    "# let's get our data\n",
    "train = np.load('MNISTcwtrain1000.npy')\n",
    "train = train.astype(float)/255\n",
    "test = np.load('MNISTcwtest100.npy')\n",
    "test = test.astype(float)/255\n",
    "\n",
    "size = train.shape[0]\n",
    "n_train = train.shape[1]\n",
    "n_test = test.shape[1]\n",
    "\n",
    "print '----MNIST dataset loaded----'\n",
    "print 'Train data: %d x %d' %(size, n_train)\n",
    "print 'Test data: %d x %d' %(size, n_test)"
   ]
  },
  {
   "cell_type": "code",
   "execution_count": 6,
   "metadata": {
    "collapsed": false
   },
   "outputs": [
    {
     "name": "stdout",
     "output_type": "stream",
     "text": [
      "(784, 10000)\n",
      "(392, 10000)\n",
      "(392, 10000)\n",
      "(784, 1000)\n",
      "(392, 1000)\n",
      "(392, 1000)\n"
     ]
    },
    {
     "data": {
      "text/plain": [
       "<matplotlib.text.Text at 0x7f1573439a10>"
      ]
     },
     "execution_count": 6,
     "metadata": {},
     "output_type": "execute_result"
    },
    {
     "data": {
      "image/png": "[encoded data removed]",
      "text/plain": [
       "<matplotlib.figure.Figure at 0x7f157353f750>"
      ]
     },
     "metadata": {},
     "output_type": "display_data"
    }
   ],
   "source": [
    "train_hideRight, Xtrain_hideRight, Ytrain_hideRight = hideData(train, generateColumnMask(14))\n",
    "test_hideRight, Xtest_hideRight, Ytest_hideRight = hideData(test, generateColumnMask(14))\n",
    "\n",
    "random = np.random.randint(0, 10000)\n",
    "originalImg = unpackcw(train[:, random], 28, 28)\n",
    "hiddenImg = unpackcw(train_hideRight[:, random], 28, 28)\n",
    "hiddenVec = np.concatenate((np.zeros(28*14), Ytrain_hideRight[:, random]), axis = 0)\n",
    "hiddenPart = unpackcw(hiddenVec, 28, 28)\n",
    "\n",
    "print train_hideRight.shape\n",
    "print Xtrain_hideRight.shape\n",
    "print Ytrain_hideRight.shape\n",
    "print test_hideRight.shape\n",
    "print Xtest_hideRight.shape\n",
    "print Ytest_hideRight.shape\n",
    "\n",
    "plt.figure(1)\n",
    "plt.subplot(1, 3, 1); plt.imshow(originalImg, cmap='gray'); plt.title('original')\n",
    "plt.subplot(1, 3, 2);  plt.imshow(hiddenImg, cmap='gray'); plt.title('hidden')\n",
    "plt.subplot(1, 3, 3);  plt.imshow(hiddenPart, cmap='gray'); plt.title('hidden Y')"
   ]
  }
 ],
 "metadata": {
  "anaconda-cloud": {},
  "kernelspec": {
   "display_name": "Python [default]",
   "language": "python",
   "name": "python2"
  },
  "language_info": {
   "codemirror_mode": {
    "name": "ipython",
    "version": 2
   },
   "file_extension": ".py",
   "mimetype": "text/x-python",
   "name": "python",
   "nbconvert_exporter": "python",
   "pygments_lexer": "ipython2",
   "version": "2.7.12"
  }
 },
 "nbformat": 4,
 "nbformat_minor": 0
}
