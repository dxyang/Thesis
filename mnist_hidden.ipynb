{
 "cells": [
  {
   "cell_type": "markdown",
   "metadata": {},
   "source": [
    "# Import libraries"
   ]
  },
  {
   "cell_type": "code",
   "execution_count": 2,
   "metadata": {
    "collapsed": false
   },
   "outputs": [],
   "source": [
    "import tensorflow as tf\n",
    "import numpy as np\n",
    "import matplotlib.pyplot as plt\n",
    "import matplotlib.image as mpimg\n",
    "\n",
    "%matplotlib inline"
   ]
  },
  {
   "cell_type": "markdown",
   "metadata": {},
   "source": [
    "# MNIST preprocessing"
   ]
  },
  {
   "cell_type": "code",
   "execution_count": 3,
   "metadata": {
    "collapsed": true
   },
   "outputs": [],
   "source": [
    "# packing and unpacking images\n",
    "def packcw(A,nr,nc):\n",
    "    x = (A.T).reshape(nr*nc,1)\n",
    "    return x\n",
    "\n",
    "def unpackcw(x,nr,nc):\n",
    "    A = x.reshape(nc,nr)\n",
    "    return A.T\n",
    "\n",
    "def packrw(A,nr,nc):\n",
    "    x = A.reshape(nr*nc,1)\n",
    "    return x\n",
    "\n",
    "def unpackrw(x,nr,nc):\n",
    "    A = x.reshape(nr,nc)\n",
    "    return A\n",
    "\n",
    "# generates a 784 element mask with columns deleted\n",
    "# from the right side of the image towards the left\n",
    "def generateColumnMask(delColumns):\n",
    "    mask = np.ones((28, 28))\n",
    "    mask[:, (28 - delColumns):] = 0\n",
    "    maskVec = packcw(mask, 28, 28)\n",
    "    return maskVec\n",
    "\n",
    "# generate a 784 element mask with a square, with side\n",
    "# length (sideLength), zero'd out of the middle\n",
    "def generateCenterSquareMask(sideLength):\n",
    "    mask = np.ones((28, 28))\n",
    "    leftIdx = (28 - sideLength)/2\n",
    "    rightIdx = (28 + sideLength)/2\n",
    "    mask[leftIdx:rightIdx, leftIdx:rightIdx] = 0\n",
    "    maskVec = packcw(mask, 28, 28)\n",
    "    return maskVec\n",
    "\n",
    "# zero out indices of a vector for a data matrix\n",
    "# for a given mask\n",
    "def hideData(data, mask):\n",
    "    # copy the data\n",
    "    newData = data.copy()\n",
    "    \n",
    "    # get indices from the mask\n",
    "    x_idx = np.where([mask==1])[1]\n",
    "    y_idx = np.where([mask==0])[1]\n",
    "    \n",
    "    # apply the mask\n",
    "    newData[y_idx, :] = 0\n",
    "    \n",
    "    return newData, data[x_idx, :], data[y_idx, :]\n",
    "\n",
    "# get statistics for mmse\n",
    "def getStatistics(data, vectorMask):\n",
    "    # get mean and covariance of original data\n",
    "    mean = np.mean(data, axis=1)\n",
    "    cov = np.cov(data)\n",
    "    \n",
    "    # get indices for X, Y parts of data\n",
    "    x_idx = np.where([vectorMask == 0])[1]\n",
    "    y_idx = np.where([vectorMask == 1])[1]\n",
    "        \n",
    "    # apply masks\n",
    "    u_x = mean[x_idx]\n",
    "    u_y = mean[y_idx]\n",
    "    cov_x = cov[x_idx]\n",
    "    cov_x = cov_x[:, x_idx]\n",
    "    cov_yx = cov[y_idx]\n",
    "    cov_yx = cov_yx[:, x_idx]\n",
    "    cov_y = cov[y_idx]\n",
    "    cov_y = cov_y[:, y_idx]\n",
    "    \n",
    "    # return statistics\n",
    "    return u_x, u_y, cov_x, cov_yx\n",
    "\n",
    "# let's get the data for halves\n",
    "def returnHalfData(ncols):\n",
    "    train = np.load('MNISTcwtrain1000.npy')\n",
    "    train = train.astype(float)/255\n",
    "    test = np.load('MNISTcwtest100.npy')\n",
    "    test = test.astype(float)/255\n",
    "\n",
    "    size = train.shape[0]\n",
    "    n_train = train.shape[1]\n",
    "    n_test = test.shape[1]\n",
    "\n",
    "    print '----MNIST dataset loaded----'\n",
    "    print 'Train data: %d x %d' %(size, n_train)\n",
    "    print 'Test data: %d x %d' %(size, n_test)\n",
    "\n",
    "    train_hideRight, Xtrain_hideRight, Ytrain_hideRight = hideData(train, generateColumnMask(ncols))\n",
    "    test_hideRight, Xtest_hideRight, Ytest_hideRight = hideData(test, generateColumnMask(ncols))\n",
    "\n",
    "    return train_hideRight, Xtrain_hideRight, Ytrain_hideRight, test_hideRight, Xtest_hideRight, Ytest_hideRight\n",
    "\n",
    "# let's get the data for halves\n",
    "def returnSquareData(squareSideLength):\n",
    "    train = np.load('MNISTcwtrain1000.npy')\n",
    "    train = train.astype(float)/255\n",
    "    test = np.load('MNISTcwtest100.npy')\n",
    "    test = test.astype(float)/255\n",
    "\n",
    "    size = train.shape[0]\n",
    "    n_train = train.shape[1]\n",
    "    n_test = test.shape[1]\n",
    "\n",
    "    print '----MNIST dataset loaded----'\n",
    "    print 'Train data: %d x %d' %(size, n_train)\n",
    "    print 'Test data: %d x %d' %(size, n_test)\n",
    "\n",
    "    train_hideMiddle, Xtrain_hideMiddle, Ytrain_hideMiddle = hideData(train, generateCenterSquareMask(squareSideLength))\n",
    "    test_hideMiddle, Xtest_hideMiddle, Ytest_hideMiddle = hideData(test, generateCenterSquareMask(squareSideLength))\n",
    "\n",
    "    return train_hideMiddle, Xtrain_hideMiddle, Ytrain_hideMiddle, test_hideMiddle, Xtest_hideMiddle, Ytest_hideMiddle\n",
    "\n",
    "# let's get the data\n",
    "def returnData():\n",
    "    train = np.load('MNISTcwtrain1000.npy')\n",
    "    train = train.astype(float)/255\n",
    "    test = np.load('MNISTcwtest100.npy')\n",
    "    test = test.astype(float)/255\n",
    "\n",
    "    size = train.shape[0]\n",
    "    n_train = train.shape[1]\n",
    "    n_test = test.shape[1]\n",
    "\n",
    "    print '----MNIST dataset loaded----'\n",
    "    print 'Train data: %d x %d' %(size, n_train)\n",
    "    print 'Test data: %d x %d' %(size, n_test)\n",
    "\n",
    "    return train, test"
   ]
  },
  {
   "cell_type": "code",
   "execution_count": 4,
   "metadata": {
    "collapsed": false
   },
   "outputs": [
    {
     "name": "stdout",
     "output_type": "stream",
     "text": [
      "----MNIST dataset loaded----\n",
      "Train data: 784 x 10000\n",
      "Test data: 784 x 1000\n"
     ]
    }
   ],
   "source": [
    "# let's get our data\n",
    "train, test = returnData()"
   ]
  },
  {
   "cell_type": "code",
   "execution_count": 9,
   "metadata": {
    "collapsed": false,
    "scrolled": true
   },
   "outputs": [
    {
     "name": "stdout",
     "output_type": "stream",
     "text": [
      "----MNIST dataset loaded----\n",
      "Train data: 784 x 10000\n",
      "Test data: 784 x 1000\n"
     ]
    },
    {
     "data": {
      "text/plain": [
       "<matplotlib.text.Text at 0x7f56eefc3c90>"
      ]
     },
     "execution_count": 9,
     "metadata": {},
     "output_type": "execute_result"
    },
    {
     "data": {
      "image/png": "[encoded data removed]",
      "text/plain": [
       "<matplotlib.figure.Figure at 0x7f56ef26eb90>"
      ]
     },
     "metadata": {},
     "output_type": "display_data"
    }
   ],
   "source": [
    "train_hideRight, Xtrain_hideRight, Ytrain_hideRight, \\\n",
    "test_hideRight, Xtest_hideRight, Ytest_hideRight = returnHalfData(14)\n",
    "\n",
    "random = np.random.randint(0, 10000)\n",
    "originalImg = unpackcw(train[:, random], 28, 28)\n",
    "hiddenImg = unpackcw(train_hideRight[:, random], 28, 28)\n",
    "hiddenVec = np.concatenate((np.zeros(28*14), Ytrain_hideRight[:, random]), axis = 0)\n",
    "hiddenPart = unpackcw(hiddenVec, 28, 28)\n",
    "\n",
    "plt.figure(1)\n",
    "plt.subplot(1, 3, 1); plt.imshow(originalImg, cmap='gray'); plt.title('original')\n",
    "plt.subplot(1, 3, 2);  plt.imshow(hiddenImg, cmap='gray'); plt.title('hidden')\n",
    "plt.subplot(1, 3, 3);  plt.imshow(hiddenPart, cmap='gray'); plt.title('hidden Y')"
   ]
  },
  {
   "cell_type": "code",
   "execution_count": 15,
   "metadata": {
    "collapsed": false,
    "scrolled": true
   },
   "outputs": [
    {
     "name": "stdout",
     "output_type": "stream",
     "text": [
      "----MNIST dataset loaded----\n",
      "Train data: 784 x 10000\n",
      "Test data: 784 x 1000\n"
     ]
    },
    {
     "data": {
      "text/plain": [
       "<matplotlib.text.Text at 0x7f56ee9c2710>"
      ]
     },
     "execution_count": 15,
     "metadata": {},
     "output_type": "execute_result"
    },
    {
     "data": {
      "image/png": "[encoded data removed]",
      "text/plain": [
       "<matplotlib.figure.Figure at 0x7f56eec3c950>"
      ]
     },
     "metadata": {},
     "output_type": "display_data"
    }
   ],
   "source": [
    "train_hideCenter, Xtrain_hideCenter, Ytrain_hideCenter, \\\n",
    "test_hideCenter, Xtest_hideCenter, Ytest_hideCenter = returnSquareData(10)\n",
    "\n",
    "random = np.random.randint(0, 10000)\n",
    "originalImg = unpackcw(train[:, random], 28, 28)\n",
    "hiddenImg = unpackcw(train_hideCenter[:, random], 28, 28)\n",
    "hiddenPart = unpackcw(Ytrain_hideCenter[:, random], 10, 10)\n",
    "\n",
    "plt.figure(1)\n",
    "plt.subplot(1, 3, 1); plt.imshow(originalImg, cmap='gray'); plt.title('original')\n",
    "plt.subplot(1, 3, 2);  plt.imshow(hiddenImg, cmap='gray'); plt.title('hidden')\n",
    "plt.subplot(1, 3, 3);  plt.imshow(hiddenPart, cmap='gray'); plt.title('hidden Y')"
   ]
  },
  {
   "cell_type": "code",
   "execution_count": null,
   "metadata": {
    "collapsed": false,
    "scrolled": true
   },
   "outputs": [],
   "source": []
  },
  {
   "cell_type": "code",
   "execution_count": null,
   "metadata": {
    "collapsed": true
   },
   "outputs": [],
   "source": []
  },
  {
   "cell_type": "code",
   "execution_count": null,
   "metadata": {
    "collapsed": false
   },
   "outputs": [],
   "source": []
  },
  {
   "cell_type": "code",
   "execution_count": null,
   "metadata": {
    "collapsed": true
   },
   "outputs": [],
   "source": []
  },
  {
   "cell_type": "code",
   "execution_count": null,
   "metadata": {
    "collapsed": true
   },
   "outputs": [],
   "source": []
  }
 ],
 "metadata": {
  "anaconda-cloud": {},
  "kernelspec": {
   "display_name": "Python [default]",
   "language": "python",
   "name": "python2"
  },
  "language_info": {
   "codemirror_mode": {
    "name": "ipython",
    "version": 2
   },
   "file_extension": ".py",
   "mimetype": "text/x-python",
   "name": "python",
   "nbconvert_exporter": "python",
   "pygments_lexer": "ipython2",
   "version": "2.7.12"
  }
 },
 "nbformat": 4,
 "nbformat_minor": 0
}
