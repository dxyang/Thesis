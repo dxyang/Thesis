{
 "cells": [
  {
   "cell_type": "code",
   "execution_count": 1,
   "metadata": {
    "collapsed": true
   },
   "outputs": [],
   "source": [
    "import numpy as np\n",
    "import matplotlib.pyplot as plt\n",
    "import matplotlib.image as mpimg\n",
    "\n",
    "%matplotlib inline\n",
    "\n",
    "# packing and unpacking images\n",
    "def packcw(A,nr,nc):\n",
    "    x = (A.T).reshape(nr*nc,1)\n",
    "    return x\n",
    "\n",
    "def unpackcw(x,nr,nc):\n",
    "    A = x.reshape(nc,nr)\n",
    "    return A.T\n",
    "\n",
    "def packrw(A,nr,nc):\n",
    "    x = A.reshape(nr*nc,1)\n",
    "    return x\n",
    "\n",
    "def unpackrw(x,nr,nc):\n",
    "    A = x.reshape(nr,nc)\n",
    "    return A\n",
    "\n",
    "# generates a 784 element mask with columns deleted\n",
    "# from the right side of the image towards the left\n",
    "def generateColumnMask(delColumns):\n",
    "    mask = np.ones((28, 28))\n",
    "    mask[:, (28 - delColumns):] = 0\n",
    "    maskVec = packcw(mask, 28, 28)\n",
    "    return maskVec\n",
    "\n",
    "# generate a 784 element mask with a square, with side\n",
    "# length (sideLength), zero'd out of the middle\n",
    "def generateCenterSquareMask(sideLength):\n",
    "    mask = np.ones((28, 28))\n",
    "    leftIdx = (28 - sideLength)/2\n",
    "    rightIdx = (28 + sideLength)/2\n",
    "    mask[leftIdx:rightIdx, leftIdx:rightIdx] = 0\n",
    "    maskVec = packcw(mask, 28, 28)\n",
    "    return maskVec\n",
    "\n",
    "# zero out indices of a vector for a data matrix\n",
    "# for a given mask\n",
    "def hideData(data, mask):\n",
    "    # copy the data\n",
    "    newData = data.copy()\n",
    "    \n",
    "    # get indices from the mask\n",
    "    x_idx = np.where([mask==1])[1]\n",
    "    y_idx = np.where([mask==0])[1]\n",
    "    \n",
    "    # apply the mask\n",
    "    newData[y_idx, :] = 0\n",
    "    \n",
    "    return newData, data[x_idx, :], data[y_idx, :]\n",
    "\n",
    "# get statistics for mmse\n",
    "def getStatistics(data, vectorMask):\n",
    "    # get mean and covariance of original data\n",
    "    mean = np.mean(data, axis=1)\n",
    "    cov = np.cov(data)\n",
    "    \n",
    "    # get indices for X, Y parts of data\n",
    "    x_idx = np.where([vectorMask == 1])[1]\n",
    "    y_idx = np.where([vectorMask == 0])[1]\n",
    "        \n",
    "    # apply masks\n",
    "    u_x = mean[x_idx]\n",
    "    u_y = mean[y_idx]\n",
    "    cov_x = cov[x_idx]\n",
    "    cov_x = cov_x[:, x_idx]\n",
    "    cov_yx = cov[y_idx]\n",
    "    cov_yx = cov_yx[:, x_idx]\n",
    "    cov_y = cov[y_idx]\n",
    "    cov_y = cov_y[:, y_idx]\n",
    "    \n",
    "    # return statistics\n",
    "    return u_x, u_y, cov_x, cov_yx\n",
    "\n",
    "# let's get the data for halves\n",
    "def returnHalfData(ncols):\n",
    "    train = np.load('MNISTcwtrain1000.npy')\n",
    "    train = train.astype(float)/255\n",
    "    test = np.load('MNISTcwtest100.npy')\n",
    "    test = test.astype(float)/255\n",
    "\n",
    "    size = train.shape[0]\n",
    "    n_train = train.shape[1]\n",
    "    n_test = test.shape[1]\n",
    "\n",
    "    '''\n",
    "    print '----MNIST dataset loaded----'\n",
    "    print 'Train data: %d x %d' %(size, n_train)\n",
    "    print 'Test data: %d x %d' %(size, n_test)\n",
    "    '''\n",
    "\n",
    "    train_hideRight, Xtrain_hideRight, Ytrain_hideRight = hideData(train, generateColumnMask(ncols))\n",
    "    test_hideRight, Xtest_hideRight, Ytest_hideRight = hideData(test, generateColumnMask(ncols))\n",
    "\n",
    "    return train_hideRight, Xtrain_hideRight, Ytrain_hideRight, test_hideRight, Xtest_hideRight, Ytest_hideRight\n",
    "\n",
    "# let's get the data for halves\n",
    "def returnSquareData(squareSideLength):\n",
    "    train = np.load('MNISTcwtrain1000.npy')\n",
    "    train = train.astype(float)/255\n",
    "    test = np.load('MNISTcwtest100.npy')\n",
    "    test = test.astype(float)/255\n",
    "\n",
    "    size = train.shape[0]\n",
    "    n_train = train.shape[1]\n",
    "    n_test = test.shape[1]\n",
    "\n",
    "    '''\n",
    "    print '----MNIST dataset loaded----'\n",
    "    print 'Train data: %d x %d' %(size, n_train)\n",
    "    print 'Test data: %d x %d' %(size, n_test)\n",
    "    '''\n",
    "    \n",
    "    train_hideMiddle, Xtrain_hideMiddle, Ytrain_hideMiddle = hideData(train, generateCenterSquareMask(squareSideLength))\n",
    "    test_hideMiddle, Xtest_hideMiddle, Ytest_hideMiddle = hideData(test, generateCenterSquareMask(squareSideLength))\n",
    "\n",
    "    return train_hideMiddle, Xtrain_hideMiddle, Ytrain_hideMiddle, test_hideMiddle, Xtest_hideMiddle, Ytest_hideMiddle\n",
    "\n",
    "# let's get the data\n",
    "def returnData():\n",
    "    train = np.load('MNISTcwtrain1000.npy')\n",
    "    train = train.astype(float)/255\n",
    "    test = np.load('MNISTcwtest100.npy')\n",
    "    test = test.astype(float)/255\n",
    "\n",
    "    size = train.shape[0]\n",
    "    n_train = train.shape[1]\n",
    "    n_test = test.shape[1]\n",
    "\n",
    "    print '----MNIST dataset loaded----'\n",
    "    print 'Train data: %d x %d' %(size, n_train)\n",
    "    print 'Test data: %d x %d' %(size, n_test)\n",
    "\n",
    "    return train, test\n"
   ]
  },
  {
   "cell_type": "code",
   "execution_count": 2,
   "metadata": {
    "collapsed": true
   },
   "outputs": [],
   "source": [
    "def Wstar(cov_x, cov_yx):\n",
    "    if cov_x.any():\n",
    "        cov_x_inv = np.linalg.pinv(cov_x)\n",
    "    else:\n",
    "        cov_x_inv = cov_x\n",
    "    W = np.dot(cov_yx, cov_x_inv)\n",
    "    return W\n",
    "\n",
    "def mmseEstimator(x, u_x, u_y, cov_x, cov_yx):\n",
    "    W = Wstar(cov_x, cov_yx)\n",
    "    dist = x - u_x.reshape((u_x.shape[0]), 1)\n",
    "    return np.dot(W, dist) + u_y.reshape((u_y.shape[0]), 1)"
   ]
  },
  {
   "cell_type": "code",
   "execution_count": 5,
   "metadata": {
    "collapsed": false
   },
   "outputs": [
    {
     "name": "stdout",
     "output_type": "stream",
     "text": [
      "----MNIST dataset loaded----\n",
      "Train data: 784 x 10000\n",
      "Test data: 784 x 1000\n"
     ]
    }
   ],
   "source": [
    "train, test = returnData()"
   ]
  },
  {
   "cell_type": "code",
   "execution_count": 6,
   "metadata": {
    "collapsed": false
   },
   "outputs": [],
   "source": [
    "# -------------------------------------------------------------\n",
    "#  Removing Different Number of Columns with MMSE estimator\n",
    "# -------------------------------------------------------------\n",
    "\n",
    "train_colMSEs = np.zeros(28)\n",
    "test_colMSEs = np.zeros(28)\n",
    "\n",
    "for i in range(28):\n",
    "    nCols = (i+1)\n",
    "    vecMask = generateColumnMask(nCols)\n",
    "        \n",
    "    train_hideRight, Xtrain_hideRight, Ytrain_hideRight, \\\n",
    "    test_hideRight, Xtest_hideRight, Ytest_hideRight = returnHalfData(nCols)\n",
    "    \n",
    "    u_x, u_y, cov_x, cov_yx = getStatistics(train, vecMask)\n",
    "    Ytrain_hideRight_hat = mmseEstimator(Xtrain_hideRight, u_x, u_y, cov_x, cov_yx)\n",
    "    Ytest_hideRight_hat = mmseEstimator(Xtest_hideRight, u_x, u_y, cov_x, cov_yx)\n",
    "    \n",
    "    diff_train = Ytrain_hideRight - Ytrain_hideRight_hat\n",
    "    trainMSEs = np.zeros(10000)\n",
    "    for j in range(10000):\n",
    "        trainMSEs[j] = np.mean(np.multiply(diff_train[:, j], diff_train[:, j]))\n",
    "    train_colMSEs[i] = np.mean(trainMSEs)\n",
    "\n",
    "    diff_test = Ytest_hideRight - Ytest_hideRight_hat\n",
    "    testMSEs = np.zeros(1000)\n",
    "    for j in range(1000):\n",
    "        testMSEs[j] = np.mean(np.multiply(diff_test[:, j], diff_test[:, j]))\n",
    "    test_colMSEs[i] = np.mean(testMSEs)"
   ]
  },
  {
   "cell_type": "code",
   "execution_count": 7,
   "metadata": {
    "collapsed": false
   },
   "outputs": [
    {
     "data": {
      "image/png": "[encoded data removed]",
      "text/plain": [
       "<matplotlib.figure.Figure at 0x7fd21ae6fb50>"
      ]
     },
     "metadata": {},
     "output_type": "display_data"
    },
    {
     "name": "stdout",
     "output_type": "stream",
     "text": [
      "[  1.39669621e-05   1.11349200e-04   4.34285547e-04   1.21245663e-03\n",
      "   2.71365264e-03   5.04312280e-03   8.13673464e-03   1.19679965e-02\n",
      "   1.64509484e-02   2.16537029e-02   2.74809687e-02   3.31518034e-02\n",
      "   3.82632554e-02   4.30648013e-02   4.78975335e-02   5.26703041e-02\n",
      "   5.75176574e-02   6.27099067e-02   6.76222170e-02   7.17624726e-02\n",
      "   7.50415300e-02   7.70809990e-02   7.80608091e-02   7.72608864e-02\n",
      "   7.51651505e-02   7.26177336e-02   7.00135761e-02   6.75210808e-02]\n",
      "[  4.07370995e-05   1.43425297e-04   4.69495445e-04   1.24779443e-03\n",
      "   2.84890284e-03   5.32241386e-03   8.53820014e-03   1.25567842e-02\n",
      "   1.75687615e-02   2.31680817e-02   2.95210766e-02   3.56241626e-02\n",
      "   4.16047050e-02   4.68837833e-02   5.23039904e-02   5.71204388e-02\n",
      "   6.19485959e-02   6.67584361e-02   7.13113315e-02   7.55176991e-02\n",
      "   7.80227490e-02   7.85520010e-02   7.81629249e-02   7.60604684e-02\n",
      "   7.33610273e-02   7.06890561e-02   6.80104467e-02   6.55828487e-02]\n"
     ]
    }
   ],
   "source": [
    "# plot mse \n",
    "plt.figure(1)\n",
    "plt.scatter(np.arange(1,29), train_colMSEs, c='r')\n",
    "plt.scatter(np.arange(1,29), test_colMSEs, c='b')\n",
    "plt.title(\"Mean Square Estimator Error\", fontsize=14)\n",
    "plt.ylabel(\"Error\", fontsize=14)\n",
    "plt.xlabel(\"Hidden Columns\", fontsize=14)\n",
    "plt.show()\n",
    "\n",
    "print train_colMSEs\n",
    "print test_colMSEs"
   ]
  },
  {
   "cell_type": "code",
   "execution_count": 8,
   "metadata": {
    "collapsed": false
   },
   "outputs": [],
   "source": [
    "# --------------------------------------------------------\n",
    "#  Removing Different Sized Squares with MMSE estimator\n",
    "# --------------------------------------------------------\n",
    "train_squareMSEs = np.zeros(14)\n",
    "test_squareMSEs = np.zeros(14)\n",
    "\n",
    "for i in range(14):\n",
    "    squareSize = (i+1)*2\n",
    "    vecMask = generateCenterSquareMask(squareSize)\n",
    "    \n",
    "    train_hideCenter, Xtrain_hideCenter, Ytrain_hideCenter, \\\n",
    "    test_hideCenter, Xtest_hideCenter, Ytest_hideCenter = returnSquareData(squareSize)\n",
    "    \n",
    "    u_x, u_y, cov_x, cov_yx = getStatistics(train, vecMask)\n",
    "    Ytrain_hat_hideCenter = mmseEstimator(Xtrain_hideCenter, u_x, u_y, cov_x, cov_yx)\n",
    "    Ytest_hat_hideCenter = mmseEstimator(Xtest_hideCenter, u_x, u_y, cov_x, cov_yx)\n",
    "    \n",
    "    diff_train = Ytrain_hideCenter - Ytrain_hat_hideCenter\n",
    "    trainMSEs = np.zeros(10000)\n",
    "    for j in range(10000):\n",
    "        trainMSEs[j] = np.mean(np.multiply(diff_train[:, j], diff_train[:, j]))\n",
    "    train_squareMSEs[i] = np.mean(trainMSEs)\n",
    "\n",
    "    diff_test = Ytest_hideCenter - Ytest_hat_hideCenter\n",
    "    testMSEs = np.zeros(1000)\n",
    "    for j in range(1000):\n",
    "        testMSEs[j] = np.mean(np.multiply(diff_test[:, j], diff_test[:, j]))\n",
    "    test_squareMSEs[i] = np.mean(testMSEs)"
   ]
  },
  {
   "cell_type": "code",
   "execution_count": 9,
   "metadata": {
    "collapsed": false
   },
   "outputs": [
    {
     "data": {
      "image/png": "[encoded data removed]",
      "text/plain": [
       "<matplotlib.figure.Figure at 0x7fd21ae6f490>"
      ]
     },
     "metadata": {},
     "output_type": "display_data"
    },
    {
     "name": "stdout",
     "output_type": "stream",
     "text": [
      "[ 0.02415308  0.05114388  0.06988564  0.08024208  0.08728272  0.09312629\n",
      "  0.09803643  0.1003484   0.10058864  0.10114657  0.09492837  0.08707787\n",
      "  0.07768026  0.06752108]\n",
      "[ 0.03178387  0.07095345  0.09311441  0.10973924  0.11738725  0.12608947\n",
      "  0.13051252  0.1320572   0.12582779  0.11902688  0.10760543  0.09823191\n",
      "  0.08141908  0.06558285]\n"
     ]
    }
   ],
   "source": [
    "# plot mse \n",
    "plt.figure(1)\n",
    "plt.scatter(np.arange(2,30,2), train_squareMSEs, c='r')\n",
    "plt.scatter(np.arange(2,30,2), test_squareMSEs, c='b')\n",
    "plt.title(\"Mean Square Estimator Error\", fontsize=14)\n",
    "plt.ylabel(\"Error\", fontsize=14)\n",
    "plt.xlabel(\"Square Side Length\", fontsize=14)\n",
    "plt.show()\n",
    "\n",
    "print train_squareMSEs\n",
    "print test_squareMSEs"
   ]
  },
  {
   "cell_type": "code",
   "execution_count": 10,
   "metadata": {
    "collapsed": false
   },
   "outputs": [
    {
     "data": {
      "image/png": "[encoded data removed]",
      "text/plain": [
       "<matplotlib.figure.Figure at 0x7fd21712f7d0>"
      ]
     },
     "metadata": {},
     "output_type": "display_data"
    }
   ],
   "source": [
    "# plot mse \n",
    "plt.figure(1)\n",
    "squareAreas = np.multiply(np.arange(2,30,2),np.arange(2,30,2))\n",
    "plt.scatter(squareAreas, train_squareMSEs, c='r')\n",
    "plt.scatter(squareAreas, test_squareMSEs, c='b')\n",
    "plt.title(\"Mean Square Estimator Error\", fontsize=14)\n",
    "plt.ylabel(\"Error\", fontsize=14)\n",
    "plt.xlabel(\"Square Side Length\", fontsize=14)\n",
    "plt.show()"
   ]
  },
  {
   "cell_type": "code",
   "execution_count": null,
   "metadata": {
    "collapsed": true
   },
   "outputs": [],
   "source": []
  }
 ],
 "metadata": {
  "anaconda-cloud": {},
  "kernelspec": {
   "display_name": "Python [default]",
   "language": "python",
   "name": "python2"
  },
  "language_info": {
   "codemirror_mode": {
    "name": "ipython",
    "version": 2
   },
   "file_extension": ".py",
   "mimetype": "text/x-python",
   "name": "python",
   "nbconvert_exporter": "python",
   "pygments_lexer": "ipython2",
   "version": "2.7.12"
  }
 },
 "nbformat": 4,
 "nbformat_minor": 1
}
